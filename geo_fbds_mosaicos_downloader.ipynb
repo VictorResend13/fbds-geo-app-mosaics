{
  "nbformat": 4,
  "nbformat_minor": 0,
  "metadata": {
    "colab": {
      "provenance": [],
      "authorship_tag": "ABX9TyMe2bbfqmVw4n0dhRgxLONn",
      "include_colab_link": true
    },
    "kernelspec": {
      "name": "python3",
      "display_name": "Python 3"
    },
    "language_info": {
      "name": "python"
    }
  },
  "cells": [
    {
      "cell_type": "markdown",
      "metadata": {
        "id": "view-in-github",
        "colab_type": "text"
      },
      "source": [
        "<a href=\"https://colab.research.google.com/github/VictorResend13/fbds-geo-app-mosaics/blob/main/geo_fbds_mosaicos_downloader.ipynb\" target=\"_parent\"><img src=\"https://colab.research.google.com/assets/colab-badge.svg\" alt=\"Open In Colab\"/></a>"
      ]
    },
    {
      "cell_type": "code",
      "execution_count": 32,
      "metadata": {
        "colab": {
          "base_uri": "https://localhost:8080/"
        },
        "id": "O15U-k_GIgtd",
        "outputId": "8a12d13f-a8c5-458d-e59c-55e10205520f"
      },
      "outputs": [
        {
          "output_type": "stream",
          "name": "stdout",
          "text": [
            "Requirement already satisfied: geopandas in /usr/local/lib/python3.11/dist-packages (1.0.1)\n",
            "Requirement already satisfied: pandas in /usr/local/lib/python3.11/dist-packages (2.2.2)\n",
            "Requirement already satisfied: requests in /usr/local/lib/python3.11/dist-packages (2.32.3)\n",
            "Requirement already satisfied: numpy>=1.22 in /usr/local/lib/python3.11/dist-packages (from geopandas) (2.0.2)\n",
            "Requirement already satisfied: pyogrio>=0.7.2 in /usr/local/lib/python3.11/dist-packages (from geopandas) (0.10.0)\n",
            "Requirement already satisfied: packaging in /usr/local/lib/python3.11/dist-packages (from geopandas) (24.2)\n",
            "Requirement already satisfied: pyproj>=3.3.0 in /usr/local/lib/python3.11/dist-packages (from geopandas) (3.7.1)\n",
            "Requirement already satisfied: shapely>=2.0.0 in /usr/local/lib/python3.11/dist-packages (from geopandas) (2.1.0)\n",
            "Requirement already satisfied: python-dateutil>=2.8.2 in /usr/local/lib/python3.11/dist-packages (from pandas) (2.8.2)\n",
            "Requirement already satisfied: pytz>=2020.1 in /usr/local/lib/python3.11/dist-packages (from pandas) (2025.2)\n",
            "Requirement already satisfied: tzdata>=2022.7 in /usr/local/lib/python3.11/dist-packages (from pandas) (2025.2)\n",
            "Requirement already satisfied: charset-normalizer<4,>=2 in /usr/local/lib/python3.11/dist-packages (from requests) (3.4.1)\n",
            "Requirement already satisfied: idna<4,>=2.5 in /usr/local/lib/python3.11/dist-packages (from requests) (3.10)\n",
            "Requirement already satisfied: urllib3<3,>=1.21.1 in /usr/local/lib/python3.11/dist-packages (from requests) (2.3.0)\n",
            "Requirement already satisfied: certifi>=2017.4.17 in /usr/local/lib/python3.11/dist-packages (from requests) (2025.1.31)\n",
            "Requirement already satisfied: six>=1.5 in /usr/local/lib/python3.11/dist-packages (from python-dateutil>=2.8.2->pandas) (1.17.0)\n"
          ]
        }
      ],
      "source": [
        "#instalar dependências\n",
        "!pip install geopandas pandas requests\n",
        "#geopandas sera usado para trabalhar com dados geoespaciais\n",
        "#pandas manipular os dados\n",
        "#requests fazer requisições HTTP e baixar arquivos.\n",
        "\n",
        "#importando bibliotecas\n",
        "import shutil\n",
        "import os\n",
        "import requests\n",
        "import geopandas as gpd\n",
        "import pandas as pd\n",
        "from google.colab import files\n",
        "#os sera usado  para manipulação de caminhos de arquivos e diretórios.\n",
        "#request sera usado para baixar arquivos da web.\n",
        "#geopandas e pandas  sera usado para manipulação de dados geoespaciais e tabulares.\n",
        "#files do colab sera usado para fazer o download de arquivos diretamente o computador."
      ]
    },
    {
      "cell_type": "code",
      "source": [
        "#baixar arquivo\n",
        "def baixar_arquivo(url, diretorio_saida): #recebe a url do arquivo e o diretorio onde será salvo\n",
        "    \"\"\"baixa o  arquivo da  URL e vai salva na pasta de saida.\"\"\"\n",
        "    os.makedirs(diretorio_saida, exist_ok=True) #cria o diretório de saída, se ele não existir.\n",
        "    nome_arquivo = url.split('/')[-1] # extrai o nome do arquivo na url\n",
        "    caminho_arquivo = os.path.join(diretorio_saida, nome_arquivo)\n",
        "\n",
        "    print(f\"baixando {nome_arquivo}..\")\n",
        "    resposta = requests.get(url) #faz a requisição HTTP para baixar o arquivo.\n",
        "    if resposta.status_code == 200: #se a requisição for bem-sucedida o arquivo sera salvo no caminho se nao da erro ao baixar o 200 significa ok que foi bem sucedida erro e 404.\n",
        "        with open(caminho_arquivo, 'wb') as f: #abre o conteudo em escrita binaria\n",
        "            f.write(resposta.content) # salva p conteudo baixado\n",
        "        print(f\"arquivo salvo  {caminho_arquivo}\")\n",
        "    else:\n",
        "        print(f\"erro ao baixar {nome_arquivo}: Código de status {resposta.status_code}\")\n",
        "        #mostra mensagem de salvo ou erro no arquivo ##primeiro erro do codigo aconteceu devido ao codigo_ibge nao esta correto para aquela cidade##"
      ],
      "metadata": {
        "id": "9pvaOUCCKAwY"
      },
      "execution_count": 33,
      "outputs": []
    },
    {
      "cell_type": "code",
      "source": [
        "#gerando URLs dinamicamente\n",
        "def gerar_urls(estado, cidade, codigo_ibge):\n",
        "    \"\"\"gera as URLs para  arquivos juntando um estado e cidade.\"\"\"\n",
        "    url_base = f\"https://www.geo.fbds.org.br/{estado}/{cidade}/APP/\" #recebe o nome do estado, cidade e código IBGE.\n",
        "    extensoes = ['.cpg', '.dbf', '.prj', '.shp', '.shx'] #gera URL para os arquivos necessários com extensões .cpg, .dbf, .prj, .shp, .shx.\n",
        "    return [url_base + f\"{estado}_{codigo_ibge}_APP{ext}\" for ext in extensoes] #retorna com lista de url feita"
      ],
      "metadata": {
        "id": "5R6GTGu8MsFv"
      },
      "execution_count": 34,
      "outputs": []
    },
    {
      "cell_type": "code",
      "source": [
        "#lista de dicionario que vai conter iformaçoes como sigla do estado,cidades e codigos do ibge que queremos extrair os dados de Áreas de Preservação Permanente\n",
        "#escreva os nomes em letras maiuscula, em  caso de cidade que contenha mais de um nome, como Angra dos Reis, coloque o nome com underscores. exemplo: ANGRA_DOS_REIS.\n",
        "cidades = [\n",
        "    {'estado': 'RJ', 'cidade': 'ANGRA_DOS_REIS', 'codigo_ibge': '3300100'},\n",
        "    {'estado': 'SP', 'cidade': 'AGUDOS', 'codigo_ibge': '3500709'},\n",
        "    {'estado': 'MG', 'cidade': 'BELO_HORIZONTE', 'codigo_ibge': '3106200'},\n",
        "    #adicione mais cidades aqui\n",
        "]\n"
      ],
      "metadata": {
        "id": "9RXThahFTiW0"
      },
      "execution_count": 35,
      "outputs": []
    },
    {
      "cell_type": "code",
      "source": [
        "#baixar os arquivos para cada cidade e organizar por sigla do estado\n",
        "#define o diretorio de saida\n",
        "diretorio_saida = '/content/saida' #salvo aqui\n",
        "pastas_estado = {} #dicionario para armazenar as pastas dos estados\n",
        "#para cada cidade cria uma pasta para o estado se ainda nao existir\n",
        "for info_cidade in cidades: #repete sobre cada cidade na lista\n",
        "    estado = info_cidade['estado'] #extraçâo\n",
        "    cidade = info_cidade['cidade']\n",
        "    codigo_ibge = info_cidade['codigo_ibge']\n",
        "\n",
        "    #cria uma pasta para o estado, se ainda não existir\n",
        "    pasta_estado = os.path.join(diretorio_saida, estado) ##cria o caminho da pasta do estado\n",
        "    if estado not in pastas_estado: #verifica se a pasta estado, foi criada\n",
        "        os.makedirs(pasta_estado, exist_ok=True) # cria a pasta do estado\n",
        "        pastas_estado[estado] = pasta_estado #armazena o caminho da pasta no dicionario\n",
        "\n",
        "    #gera as URLs e faz o download dos arquivos\n",
        "    urls = gerar_urls(estado, cidade, codigo_ibge) #\n",
        "    for url in urls: #repete cda url\n",
        "        baixar_arquivo(url, pasta_estado) #baixa o arquivo e salva na pasta estado"
      ],
      "metadata": {
        "colab": {
          "base_uri": "https://localhost:8080/"
        },
        "id": "LbtPRq2dXR76",
        "outputId": "fd99c998-0c1f-4a5b-df55-019c30170342"
      },
      "execution_count": 36,
      "outputs": [
        {
          "output_type": "stream",
          "name": "stdout",
          "text": [
            "baixando RJ_3300100_APP.cpg..\n",
            "arquivo salvo  /content/saida/RJ/RJ_3300100_APP.cpg\n",
            "baixando RJ_3300100_APP.dbf..\n",
            "arquivo salvo  /content/saida/RJ/RJ_3300100_APP.dbf\n",
            "baixando RJ_3300100_APP.prj..\n",
            "arquivo salvo  /content/saida/RJ/RJ_3300100_APP.prj\n",
            "baixando RJ_3300100_APP.shp..\n",
            "arquivo salvo  /content/saida/RJ/RJ_3300100_APP.shp\n",
            "baixando RJ_3300100_APP.shx..\n",
            "arquivo salvo  /content/saida/RJ/RJ_3300100_APP.shx\n",
            "baixando SP_3500709_APP.cpg..\n",
            "arquivo salvo  /content/saida/SP/SP_3500709_APP.cpg\n",
            "baixando SP_3500709_APP.dbf..\n",
            "arquivo salvo  /content/saida/SP/SP_3500709_APP.dbf\n",
            "baixando SP_3500709_APP.prj..\n",
            "arquivo salvo  /content/saida/SP/SP_3500709_APP.prj\n",
            "baixando SP_3500709_APP.shp..\n",
            "arquivo salvo  /content/saida/SP/SP_3500709_APP.shp\n",
            "baixando SP_3500709_APP.shx..\n",
            "arquivo salvo  /content/saida/SP/SP_3500709_APP.shx\n",
            "baixando MG_3106200_APP.cpg..\n",
            "arquivo salvo  /content/saida/MG/MG_3106200_APP.cpg\n",
            "baixando MG_3106200_APP.dbf..\n",
            "arquivo salvo  /content/saida/MG/MG_3106200_APP.dbf\n",
            "baixando MG_3106200_APP.prj..\n",
            "arquivo salvo  /content/saida/MG/MG_3106200_APP.prj\n",
            "baixando MG_3106200_APP.shp..\n",
            "arquivo salvo  /content/saida/MG/MG_3106200_APP.shp\n",
            "baixando MG_3106200_APP.shx..\n",
            "arquivo salvo  /content/saida/MG/MG_3106200_APP.shx\n"
          ]
        }
      ]
    },
    {
      "cell_type": "code",
      "source": [
        "#verificando os arquivos que foram baixados\n",
        "print(\"arquivos baixados por estado:\")\n",
        "for estado, pasta in pastas_estado.items(): #repete cada estado e sua pasta\n",
        "    print(f\"{estado}: {os.listdir(pasta)}\") #lista os arquivos na pasta do estado"
      ],
      "metadata": {
        "colab": {
          "base_uri": "https://localhost:8080/"
        },
        "id": "r4FVPsuDaT3N",
        "outputId": "b8c6bcba-48aa-4fbf-aba0-a916e4cca265"
      },
      "execution_count": 37,
      "outputs": [
        {
          "output_type": "stream",
          "name": "stdout",
          "text": [
            "arquivos baixados por estado:\n",
            "RJ: ['RJ_3300100_APP.shp', 'RJ_3300100_APP.cpg', 'RJ_3300100_APP.dbf', 'RJ_mosaico', 'RJ_3300100_APP.prj', 'RJ_3300100_APP.shx']\n",
            "SP: ['SP_3500709_APP.shp', 'SP_3500709_APP.cpg', 'SP_3500709_APP.dbf', 'SP_mosaico', 'SP_3500709_APP.prj', 'SP_3500709_APP.shx']\n",
            "MG: ['MG_3106200_APP.prj', 'MG_3106200_APP.cpg', 'MG_3106200_APP.shx', 'MG_mosaico', 'MG_3106200_APP.shp', 'MG_3106200_APP.dbf']\n"
          ]
        }
      ]
    },
    {
      "cell_type": "code",
      "source": [],
      "metadata": {
        "id": "mojpFITWPqJa"
      },
      "execution_count": 37,
      "outputs": []
    },
    {
      "cell_type": "code",
      "source": [
        "#criando mosaic por estado\n",
        "def criar_mosaico_estado(pasta_estado, estado): #recebe dois parametro o caminho da pasta onde os arquivos do estado estâo e o nome do  estado\n",
        "    \"\"\"cria um mosaico de shapefiles para um estado.\"\"\"\n",
        "    shapefiles = [os.path.join(pasta_estado, f) for f in os.listdir(pasta_estado) if f.endswith('.shp')] #lista  os shp file\n",
        "    if not shapefiles: #verifica se a shape file esta vazia\n",
        "        raise ValueError(f\"nao foi .shp encontrado para o estado {estado}.\") #indica que um  valor invalido foi passado para funçâo\n",
        "\n",
        "    #carrega e unifica os shapefiles\n",
        "    lista_gdf = [gpd.read_file(shp) for shp in shapefiles]  #carrega cada shapefile como um geodataframe\n",
        "    mosaico_gdf = gpd.GeoDataFrame(pd.concat(lista_gdf, ignore_index=True), crs=lista_gdf[0].crs) #unifica os geodataframes em um unico mosaico\n",
        "\n",
        "    #salva o mosaico em uma nova pasta\n",
        "    pasta_mosaico = os.path.join(pasta_estado, f\"{estado}_mosaico\") #cria o caminho da pasta do mosaico\n",
        "    os.makedirs(pasta_mosaico, exist_ok=True) #mkdr cria a pasta do mosaico\n",
        "\n",
        "    arquivo_saida = os.path.join(pasta_mosaico, f\"{estado}_mosaico.shp\") #cria o caminho do arquivo de saida\n",
        "    mosaico_gdf.to_file(arquivo_saida) #salva o mosaico como shapefile\n",
        "    print(f\"mosaico do estado {estado} salvo em:{arquivo_saida}\")\n",
        "\n",
        "    return pasta_mosaico #retorna com o caminho da pasta"
      ],
      "metadata": {
        "id": "CAgi8Rboav93"
      },
      "execution_count": 38,
      "outputs": []
    },
    {
      "cell_type": "code",
      "source": [
        "#criar mosaico para cada estado\n",
        "pastas_mosaico = {} #dicionario para armazenar as pastas dos mosaicos\n",
        "for estado, pasta in pastas_estado.items():  #repet sobre cada estado e sua pasta\n",
        "    try:\n",
        "        pasta_mosaico = criar_mosaico_estado(pasta, estado) #cria o mosaico para o estado\n",
        "        pastas_mosaico[estado] = pasta_mosaico #armazena o caminho da pasta do mosaico\n",
        "    except ValueError as e: #captura erros caso não haja shapefiles\n",
        "        print(e) #exibe a mensagem de erro"
      ],
      "metadata": {
        "colab": {
          "base_uri": "https://localhost:8080/"
        },
        "id": "BkR3Scj_vlNm",
        "outputId": "5258919c-e4ff-477d-f91b-0816928d1678"
      },
      "execution_count": 39,
      "outputs": [
        {
          "output_type": "stream",
          "name": "stdout",
          "text": [
            "mosaico do estado RJ salvo em:/content/saida/RJ/RJ_mosaico/RJ_mosaico.shp\n",
            "mosaico do estado SP salvo em:/content/saida/SP/SP_mosaico/SP_mosaico.shp\n",
            "mosaico do estado MG salvo em:/content/saida/MG/MG_mosaico/MG_mosaico.shp\n"
          ]
        }
      ]
    },
    {
      "cell_type": "code",
      "source": [
        "#download mosaico\n",
        "\n",
        "for estado, pasta_mosaico in pastas_mosaico.items():\n",
        "    zip_saida = f\"/content/saida/{estado}_mosaico.zip\"  #nome do arquivo zip\n",
        "    shutil.make_archive(zip_saida.replace(\".zip\", \"\"), 'zip', pasta_mosaico)  #compacta a pasta do mosaico\n",
        "\n",
        "    if os.path.exists(zip_saida):  #verifica se o arquivo zip foi criado\n",
        "        print(f\"fazendo o download do mosaico compactado do estado {estado}..\")\n",
        "        files.download(zip_saida)  #faz o download do arquivo zip\n",
        "    else:\n",
        "        print(f\"nenhum mosaico encontrado para o estado {estado}.\")"
      ],
      "metadata": {
        "colab": {
          "base_uri": "https://localhost:8080/",
          "height": 69
        },
        "id": "ybrT9hPbvlu3",
        "outputId": "6f1cc67e-952a-40e5-c3e2-abf1d11d7fd8"
      },
      "execution_count": 40,
      "outputs": [
        {
          "output_type": "stream",
          "name": "stdout",
          "text": [
            "fazendo o download do mosaico compactado do estado RJ..\n"
          ]
        },
        {
          "output_type": "display_data",
          "data": {
            "text/plain": [
              "<IPython.core.display.Javascript object>"
            ],
            "application/javascript": [
              "\n",
              "    async function download(id, filename, size) {\n",
              "      if (!google.colab.kernel.accessAllowed) {\n",
              "        return;\n",
              "      }\n",
              "      const div = document.createElement('div');\n",
              "      const label = document.createElement('label');\n",
              "      label.textContent = `Downloading \"${filename}\": `;\n",
              "      div.appendChild(label);\n",
              "      const progress = document.createElement('progress');\n",
              "      progress.max = size;\n",
              "      div.appendChild(progress);\n",
              "      document.body.appendChild(div);\n",
              "\n",
              "      const buffers = [];\n",
              "      let downloaded = 0;\n",
              "\n",
              "      const channel = await google.colab.kernel.comms.open(id);\n",
              "      // Send a message to notify the kernel that we're ready.\n",
              "      channel.send({})\n",
              "\n",
              "      for await (const message of channel.messages) {\n",
              "        // Send a message to notify the kernel that we're ready.\n",
              "        channel.send({})\n",
              "        if (message.buffers) {\n",
              "          for (const buffer of message.buffers) {\n",
              "            buffers.push(buffer);\n",
              "            downloaded += buffer.byteLength;\n",
              "            progress.value = downloaded;\n",
              "          }\n",
              "        }\n",
              "      }\n",
              "      const blob = new Blob(buffers, {type: 'application/binary'});\n",
              "      const a = document.createElement('a');\n",
              "      a.href = window.URL.createObjectURL(blob);\n",
              "      a.download = filename;\n",
              "      div.appendChild(a);\n",
              "      a.click();\n",
              "      div.remove();\n",
              "    }\n",
              "  "
            ]
          },
          "metadata": {}
        },
        {
          "output_type": "display_data",
          "data": {
            "text/plain": [
              "<IPython.core.display.Javascript object>"
            ],
            "application/javascript": [
              "download(\"download_1d7450cf-3090-4ca3-92d6-933456ee27dd\", \"RJ_mosaico.zip\", 1782678)"
            ]
          },
          "metadata": {}
        },
        {
          "output_type": "stream",
          "name": "stdout",
          "text": [
            "fazendo o download do mosaico compactado do estado SP..\n"
          ]
        },
        {
          "output_type": "display_data",
          "data": {
            "text/plain": [
              "<IPython.core.display.Javascript object>"
            ],
            "application/javascript": [
              "\n",
              "    async function download(id, filename, size) {\n",
              "      if (!google.colab.kernel.accessAllowed) {\n",
              "        return;\n",
              "      }\n",
              "      const div = document.createElement('div');\n",
              "      const label = document.createElement('label');\n",
              "      label.textContent = `Downloading \"${filename}\": `;\n",
              "      div.appendChild(label);\n",
              "      const progress = document.createElement('progress');\n",
              "      progress.max = size;\n",
              "      div.appendChild(progress);\n",
              "      document.body.appendChild(div);\n",
              "\n",
              "      const buffers = [];\n",
              "      let downloaded = 0;\n",
              "\n",
              "      const channel = await google.colab.kernel.comms.open(id);\n",
              "      // Send a message to notify the kernel that we're ready.\n",
              "      channel.send({})\n",
              "\n",
              "      for await (const message of channel.messages) {\n",
              "        // Send a message to notify the kernel that we're ready.\n",
              "        channel.send({})\n",
              "        if (message.buffers) {\n",
              "          for (const buffer of message.buffers) {\n",
              "            buffers.push(buffer);\n",
              "            downloaded += buffer.byteLength;\n",
              "            progress.value = downloaded;\n",
              "          }\n",
              "        }\n",
              "      }\n",
              "      const blob = new Blob(buffers, {type: 'application/binary'});\n",
              "      const a = document.createElement('a');\n",
              "      a.href = window.URL.createObjectURL(blob);\n",
              "      a.download = filename;\n",
              "      div.appendChild(a);\n",
              "      a.click();\n",
              "      div.remove();\n",
              "    }\n",
              "  "
            ]
          },
          "metadata": {}
        },
        {
          "output_type": "display_data",
          "data": {
            "text/plain": [
              "<IPython.core.display.Javascript object>"
            ],
            "application/javascript": [
              "download(\"download_2cc5a4fb-5eb5-42c7-bdd2-8ab2dec9002a\", \"SP_mosaico.zip\", 1382976)"
            ]
          },
          "metadata": {}
        },
        {
          "output_type": "stream",
          "name": "stdout",
          "text": [
            "fazendo o download do mosaico compactado do estado MG..\n"
          ]
        },
        {
          "output_type": "display_data",
          "data": {
            "text/plain": [
              "<IPython.core.display.Javascript object>"
            ],
            "application/javascript": [
              "\n",
              "    async function download(id, filename, size) {\n",
              "      if (!google.colab.kernel.accessAllowed) {\n",
              "        return;\n",
              "      }\n",
              "      const div = document.createElement('div');\n",
              "      const label = document.createElement('label');\n",
              "      label.textContent = `Downloading \"${filename}\": `;\n",
              "      div.appendChild(label);\n",
              "      const progress = document.createElement('progress');\n",
              "      progress.max = size;\n",
              "      div.appendChild(progress);\n",
              "      document.body.appendChild(div);\n",
              "\n",
              "      const buffers = [];\n",
              "      let downloaded = 0;\n",
              "\n",
              "      const channel = await google.colab.kernel.comms.open(id);\n",
              "      // Send a message to notify the kernel that we're ready.\n",
              "      channel.send({})\n",
              "\n",
              "      for await (const message of channel.messages) {\n",
              "        // Send a message to notify the kernel that we're ready.\n",
              "        channel.send({})\n",
              "        if (message.buffers) {\n",
              "          for (const buffer of message.buffers) {\n",
              "            buffers.push(buffer);\n",
              "            downloaded += buffer.byteLength;\n",
              "            progress.value = downloaded;\n",
              "          }\n",
              "        }\n",
              "      }\n",
              "      const blob = new Blob(buffers, {type: 'application/binary'});\n",
              "      const a = document.createElement('a');\n",
              "      a.href = window.URL.createObjectURL(blob);\n",
              "      a.download = filename;\n",
              "      div.appendChild(a);\n",
              "      a.click();\n",
              "      div.remove();\n",
              "    }\n",
              "  "
            ]
          },
          "metadata": {}
        },
        {
          "output_type": "display_data",
          "data": {
            "text/plain": [
              "<IPython.core.display.Javascript object>"
            ],
            "application/javascript": [
              "download(\"download_6945263b-0afb-4452-9aad-fde91bf19805\", \"MG_mosaico.zip\", 471124)"
            ]
          },
          "metadata": {}
        }
      ]
    }
  ]
}